{
 "cells": [
  {
   "cell_type": "markdown",
   "metadata": {},
   "source": [
    "# Black Hole Spin Comparisons"
   ]
  },
  {
   "cell_type": "code",
   "execution_count": 1,
   "metadata": {},
   "outputs": [
    {
     "data": {
      "text/html": [
       "<style>.container { width:100% !important; }</style>"
      ],
      "text/plain": [
       "<IPython.core.display.HTML object>"
      ]
     },
     "metadata": {},
     "output_type": "display_data"
    }
   ],
   "source": [
    "from IPython.core.display import display, HTML\n",
    "display(HTML(\"<style>.container { width:100% !important; }</style>\"))\n",
    "import matplotlib.pyplot as plt\n",
    "from matplotlib.lines import Line2D\n",
    "import numpy as np"
   ]
  },
  {
   "cell_type": "markdown",
   "metadata": {},
   "source": [
    "### Constants"
   ]
  },
  {
   "cell_type": "code",
   "execution_count": 2,
   "metadata": {},
   "outputs": [],
   "source": [
    "G=6.67*10**-11\n",
    "c=299792458\n",
    "Msun=1.989*10**30"
   ]
  },
  {
   "cell_type": "markdown",
   "metadata": {},
   "source": [
    "### G-Mode"
   ]
  },
  {
   "cell_type": "code",
   "execution_count": 3,
   "metadata": {},
   "outputs": [],
   "source": [
    "def FunGMode():\n",
    "    r=np.arange(2.5, 11.83, 0.1,  dtype=np.complex)\n",
    "    #r=2.5\n",
    "    a2=(r**.5)*(5*r-4)/2\n",
    "    a1=r*(1-6*r)\n",
    "    a0=r**(2.5)*(8-r)/2\n",
    "    Q=1/3*a1-1/9*a2**2\n",
    "    R=1/6*(a1*a2-3*a0)-(1/27)*a2**3\n",
    "    check=Q**3+R**2\n",
    "    ##(Q**3+r**2)<0 so all roots are real\n",
    "    S1=(R+(check)**(1/2))**(1/3)\n",
    "    S2=(R-(check)**(1/2))**(1/3)\n",
    "    Z1=(S1+S2)-(a2/3)\n",
    "    Z2=(-1/2)*(S1+S2)-(a2/3)+(3**(1/2)*1j/2)*(S1-S2)\n",
    "    a=(-1/2)*(S1+S2)-(a2/3)-(3**(1/2)*1j/2)*(S1-S2)\n",
    "    ## Z3 is correct root\n",
    "\n",
    "    alphar=1-6*r**-1+8*a*r**(-3/2)-3*a**2*r**(-2)\n",
    "\n",
    "    gmode=(alphar**(1/2)*(c**3/(G*Msun))*(r**(3/2)+a)**-1*(1/(20*np.pi)))\n",
    "\n",
    "    #0<L/Ledd<.5\n",
    "    L=.5\n",
    "    E=.1*L\n",
    "    lowerbound=gmode*(1-E)\n",
    "    \n",
    "    return gmode, lowerbound, a"
   ]
  },
  {
   "cell_type": "code",
   "execution_count": 4,
   "metadata": {},
   "outputs": [],
   "source": [
    "def ZeroGMode():\n",
    "    r=11.83\n",
    "    a2=(r**.5)*(5*r-4)/2\n",
    "    a1=r*(1-6*r)\n",
    "    a0=r**(2.5)*(8-r)/2\n",
    "    Q=1/3*a1-1/9*a2**2\n",
    "    R=1/6*(a1*a2-3*a0)-(1/27)*a2**3\n",
    "    check=Q**3+R**2\n",
    "    ##(Q**3+r**2)<0 so all roots are real\n",
    "    S1=(R+(check)**(1/2))**(1/3)\n",
    "    S2=(R-(check)**(1/2))**(1/3)\n",
    "    Z1=(S1+S2)-(a2/3)\n",
    "    Z2=(-1/2)*(S1+S2)-(a2/3)+(3**(1/2)*1j/2)*(S1-S2)\n",
    "    a=(-1/2)*(S1+S2)-(a2/3)-(3**(1/2)*1j/2)*(S1-S2)\n",
    "    ## Z3 is correct root\n",
    "\n",
    "    alphar=1-6*r**-1+8*a*r**(-3/2)-3*a**2*r**(-2)\n",
    "\n",
    "    gmode=(alphar**(1/2)*(c**3/(G*Msun))*(r**(3/2)+a)**-1*(1/(20*np.pi)))\n",
    "\n",
    "    #0<L/Ledd<.5\n",
    "    L=.5\n",
    "    E=.1*L\n",
    "    lowerbound=gmode*(1-E)\n",
    "    return gmode, lowerbound, a"
   ]
  },
  {
   "cell_type": "code",
   "execution_count": 15,
   "metadata": {},
   "outputs": [
    {
     "name": "stdout",
     "output_type": "stream",
     "text": [
      "for a =  (-1.0000790089732732+0j) , upperbound =   (42.68921129301323+0j) and lowerbound =  (40.55475072836256+0j)\n"
     ]
    },
    {
     "data": {
      "image/png": "[encoded data removed]",
      "text/plain": [
       "<Figure size 432x288 with 1 Axes>"
      ]
     },
     "metadata": {
      "needs_background": "light"
     },
     "output_type": "display_data"
    }
   ],
   "source": [
    "# plot gmode\n",
    "gmode, lowerbound, a = FunGMode()\n",
    "plt.fill_between(a, lowerbound, gmode, facecolor='turquoise')\n",
    "plt.plot(a, gmode, 'turquoise')\n",
    "plt.plot(a, lowerbound, 'turquoise')\n",
    "\n",
    "g, low, aa = ZeroGMode()\n",
    "plt.plot(aa, g, 'bo')\n",
    "plt.plot(aa, low, 'bo')\n",
    "\n",
    "print(\"for a = \", aa, \", upperbound =  \", g, \"and lowerbound = \", low)"
   ]
  },
  {
   "cell_type": "markdown",
   "metadata": {},
   "source": [
    "### 3:2 Resonance Theory"
   ]
  },
  {
   "cell_type": "code",
   "execution_count": 6,
   "metadata": {},
   "outputs": [],
   "source": [
    "def Fun32():\n",
    "    r=np.arange(49/5-4*(11/5)**(1/2), (49/5) + 4*(11/5)**(1/2), .1)\n",
    "    a=(1/39)*(44*(r)**(1/2)-(5)**(.5)*(r*(39*r-34))**(1/2))\n",
    "\n",
    "    alphar=1-6*r**-1+8*a*r**(-3/2)-3*a**2*r**(-2)\n",
    "    alphath=1-4*a*r**(-3/2)+3*a**2*r**(-2)\n",
    "\n",
    "    radial=(alphar**(1/2)*(c**3/(G*Msun))*(r**(3/2)+a)**-1*(1/(20*np.pi)))\n",
    "\n",
    "    vertical=((alphath)**(1/2)*(c**3/(G*Msun))*(r**(3/2)+a)**-1*(1/(20*np.pi)))\n",
    "    \n",
    "    return radial, vertical, a"
   ]
  },
  {
   "cell_type": "code",
   "execution_count": 7,
   "metadata": {},
   "outputs": [],
   "source": [
    "def zero32():\n",
    "    r=(49/5) + 4*(11/5)**(1/2)\n",
    "    a=(1/39)*(44*(r)**(1/2)-(5)**(.5)*(r*(39*r-34))**(1/2))\n",
    "\n",
    "    alphar=1-6*r**-1+8*a*r**(-3/2)-3*a**2*r**(-2)\n",
    "    alphath=1-4*a*r**(-3/2)+3*a**2*r**(-2)\n",
    "\n",
    "    radial=(alphar**(1/2)*(c**3/(G*Msun))*(r**(3/2)+a)**-1*(1/(20*np.pi)))\n",
    "\n",
    "    vertical=((alphath)**(1/2)*(c**3/(G*Msun))*(r**(3/2)+a)**-1*(1/(20*np.pi)))\n",
    "    \n",
    "    return radial, vertical, a"
   ]
  },
  {
   "cell_type": "code",
   "execution_count": 8,
   "metadata": {},
   "outputs": [
    {
     "name": "stdout",
     "output_type": "stream",
     "text": [
      "for a =  -0.9999999999999992 , vertical =  54.60995765446635 and rad =  36.4066384363109\n"
     ]
    },
    {
     "data": {
      "text/plain": [
       "[<matplotlib.lines.Line2D at 0x11cf6b710>]"
      ]
     },
     "execution_count": 8,
     "metadata": {},
     "output_type": "execute_result"
    },
    {
     "data": {
      "image/png": "[encoded data removed]",
      "text/plain": [
       "<Figure size 432x288 with 1 Axes>"
      ]
     },
     "metadata": {
      "needs_background": "light"
     },
     "output_type": "display_data"
    }
   ],
   "source": [
    "rad, vert, aa = zero32()\n",
    "print(\"for a = \", aa, \", vertical = \", vert, \"and rad = \", rad)\n",
    "\n",
    "radial, vertical, a = Fun32()\n",
    "plt.plot(a, radial, 'gold')\n",
    "plt.plot(a, vertical, 'gold', ls='--')\n",
    "plt.plot(aa, rad, 'bo')\n",
    "plt.plot(aa, vert, 'bo')"
   ]
  },
  {
   "cell_type": "markdown",
   "metadata": {},
   "source": [
    "### ISCO"
   ]
  },
  {
   "cell_type": "code",
   "execution_count": 9,
   "metadata": {},
   "outputs": [],
   "source": [
    "def FunISCO():\n",
    "    r=np.arange(1, 9, 0.1)\n",
    "    a=((-1/6)*r**2*(-8/r**(3/2)+(64/(r**3)+(12*(1-6/r))/(r**2))**(.5)))\n",
    "    ISCO=((r**(3/2)+a)**(-1)*(1/(2*np.pi))*(c**3/(10*Msun*G)))\n",
    "    return ISCO, a"
   ]
  },
  {
   "cell_type": "code",
   "execution_count": 10,
   "metadata": {},
   "outputs": [],
   "source": [
    "def zeroISCO():\n",
    "    r=9\n",
    "    a=((-1/6)*r**2*(-8/r**(3/2)+(64/(r**3)+(12*(1-6/r))/(r**2))**(.5)))\n",
    "    ISCO=((r**(3/2)+a)**(-1)*(1/(2*np.pi))*(c**3/(10*Msun*G)))\n",
    "    return ISCO, a"
   ]
  },
  {
   "cell_type": "code",
   "execution_count": 11,
   "metadata": {},
   "outputs": [
    {
     "name": "stdout",
     "output_type": "stream",
     "text": [
      "for a =  -1.0 , ISCO =  124.32208224130906\n"
     ]
    },
    {
     "data": {
      "text/plain": [
       "[<matplotlib.lines.Line2D at 0x11cf9ab38>]"
      ]
     },
     "execution_count": 11,
     "metadata": {},
     "output_type": "execute_result"
    },
    {
     "data": {
      "image/png": "[encoded data removed]",
      "text/plain": [
       "<Figure size 432x288 with 1 Axes>"
      ]
     },
     "metadata": {
      "needs_background": "light"
     },
     "output_type": "display_data"
    }
   ],
   "source": [
    "zeroISCO, aa = zeroISCO()\n",
    "print(\"for a = \", aa, \", ISCO = \", zeroISCO)\n",
    "\n",
    "ISCO, a = FunISCO()\n",
    "plt.plot(a, ISCO, 'k')\n",
    "plt.plot(aa, zeroISCO, 'bo')"
   ]
  },
  {
   "cell_type": "markdown",
   "metadata": {},
   "source": [
    "### BH Angular Frequency"
   ]
  },
  {
   "cell_type": "code",
   "execution_count": 12,
   "metadata": {},
   "outputs": [],
   "source": [
    "def FunAngFreq():\n",
    "    a=np.arange(-1, .998, 0.01)\n",
    "    angfreq=(c*a)/((Msun)*(G/c**2)*(160*np.pi*(1+(1-a**2)**.5)))\n",
    "    return angfreq, a"
   ]
  },
  {
   "cell_type": "code",
   "execution_count": 13,
   "metadata": {},
   "outputs": [],
   "source": [
    "def ZeroAngFreq():\n",
    "    a=-1\n",
    "    angfreq=(c*a)/((Msun)*(G/c**2)*(160*np.pi*(1+(1-a**2)**.5)))\n",
    "    return angfreq, a"
   ]
  },
  {
   "cell_type": "code",
   "execution_count": 14,
   "metadata": {},
   "outputs": [
    {
     "name": "stdout",
     "output_type": "stream",
     "text": [
      "for a =  -1 , BH angular frequency =  -404.0467672842545\n"
     ]
    },
    {
     "data": {
      "text/plain": [
       "[<matplotlib.lines.Line2D at 0x11d0a1320>]"
      ]
     },
     "execution_count": 14,
     "metadata": {},
     "output_type": "execute_result"
    },
    {
     "data": {
      "image/png": "[encoded data removed]",
      "text/plain": [
       "<Figure size 432x288 with 1 Axes>"
      ]
     },
     "metadata": {
      "needs_background": "light"
     },
     "output_type": "display_data"
    }
   ],
   "source": [
    "zeroang, aa = ZeroAngFreq()\n",
    "print(\"for a = \", aa, \", BH angular frequency = \", zeroang)\n",
    "\n",
    "angfreq, a = FunAngFreq()\n",
    "plt.plot(a, angfreq, 'k--')\n",
    "plt.plot(aa, zeroang, 'bo')"
   ]
  }
 ],
 "metadata": {
  "kernelspec": {
   "display_name": "Python 3",
   "language": "python",
   "name": "python3"
  },
  "language_info": {
   "codemirror_mode": {
    "name": "ipython",
    "version": 3
   },
   "file_extension": ".py",
   "mimetype": "text/x-python",
   "name": "python",
   "nbconvert_exporter": "python",
   "pygments_lexer": "ipython3",
   "version": "3.7.1"
  }
 },
 "nbformat": 4,
 "nbformat_minor": 2
}
